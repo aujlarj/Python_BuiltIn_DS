{
 "cells": [
  {
   "cell_type": "markdown",
   "id": "49497f31",
   "metadata": {},
   "source": [
    "# Lists (Mutable)"
   ]
  },
  {
   "cell_type": "code",
   "execution_count": 16,
   "id": "a8711695",
   "metadata": {},
   "outputs": [],
   "source": [
    "# Create list\n",
    "empty_list1 = []\n",
    "empty_list2 = list()"
   ]
  },
  {
   "cell_type": "code",
   "execution_count": 17,
   "id": "cb3aa40f",
   "metadata": {},
   "outputs": [
    {
     "name": "stdout",
     "output_type": "stream",
     "text": [
      "[0, 1, 2, 3, 4, 5, 6, 7, 8, 9]\n"
     ]
    }
   ],
   "source": [
    "# Using range\n",
    "num_seq = range(10)  # A sequence from 0 to 9\n",
    "num_list = list(num_seq)  # The list() method casts the sequence into a list\n",
    "print(num_list)"
   ]
  },
  {
   "cell_type": "markdown",
   "id": "01c06ed4",
   "metadata": {},
   "source": [
    "### Indexing"
   ]
  },
  {
   "cell_type": "markdown",
   "id": "9f6a999a",
   "metadata": {},
   "source": [
    "<b> Selecting"
   ]
  },
  {
   "cell_type": "code",
   "execution_count": 1,
   "id": "99d448c0",
   "metadata": {},
   "outputs": [
    {
     "name": "stdout",
     "output_type": "stream",
     "text": [
      "[1]:\t\t [2010, 'Spain']\n",
      "[1][1]:\t\t Spain\n",
      "[1][1][0]:\t S\n",
      "[-1]:\t\t [2018, 'France']\n"
     ]
    }
   ],
   "source": [
    "world_cup_winners = [[2006, \"Italy\"], [2010, \"Spain\"],\n",
    "                     [2014, \"Germany\"], [2018, \"France\"]]\n",
    "print('[1]:\\t\\t',world_cup_winners[1])\n",
    "print('[1][1]:\\t\\t',world_cup_winners[1][1])  # Accessing 'Spain'\n",
    "print('[1][1][0]:\\t',world_cup_winners[1][1][0])  # Accessing 'S'\n",
    "print('[-1]:\\t\\t',world_cup_winners[-1])"
   ]
  },
  {
   "cell_type": "markdown",
   "id": "d5434f38",
   "metadata": {},
   "source": [
    "<b> Finding\n",
    "<br> <b> BIG O => O(n) </b>"
   ]
  },
  {
   "cell_type": "code",
   "execution_count": 19,
   "id": "26a438db",
   "metadata": {},
   "outputs": [
    {
     "name": "stdout",
     "output_type": "stream",
     "text": [
      "2\n",
      "True\n",
      "True\n"
     ]
    }
   ],
   "source": [
    "cities = [\"London\", \"Paris\", \"Los Angeles\", \"Beirut\"]\n",
    "print(cities.index(\"Los Angeles\"))  # It is at the 2nd index\n",
    "\n",
    "cities = [\"London\", \"Paris\", \"Los Angeles\", \"Beirut\"]\n",
    "print(\"London\" in cities)\n",
    "print(\"Moscow\" not in cities)"
   ]
  },
  {
   "cell_type": "markdown",
   "id": "b3d07c80",
   "metadata": {},
   "source": [
    "### Slicing  \n",
    "<b> BIG O => O(k) </b>"
   ]
  },
  {
   "cell_type": "code",
   "execution_count": 20,
   "id": "2cf33fd6",
   "metadata": {},
   "outputs": [
    {
     "name": "stdout",
     "output_type": "stream",
     "text": [
      "[2:5] [5, 7, 11]\n"
     ]
    }
   ],
   "source": [
    "prime_list = [2,3,5,7,11,13,17,23]\n",
    "print('[2:5]',prime_list[2:5])"
   ]
  },
  {
   "cell_type": "markdown",
   "id": "9068e850",
   "metadata": {},
   "source": [
    "### Merging List"
   ]
  },
  {
   "cell_type": "code",
   "execution_count": 21,
   "id": "4f0f099b",
   "metadata": {},
   "outputs": [
    {
     "name": "stdout",
     "output_type": "stream",
     "text": [
      "merge 1:\t\t [1, 2, 3, 4, 5, 6, 7, 8, 9, 0]\n",
      "merge 2:\t\t None\n",
      "List 3 extends:\t\t [1, 2, 3, 4, 5, 6, 7, 8, 9, 0]\n"
     ]
    }
   ],
   "source": [
    "list_1 = [1,2,3,4,5]\n",
    "list_2 = [6,7,8,9,0]\n",
    "merge_1 = list_1 + list_2\n",
    "\n",
    "list_3 = [1,2,3,4,5]\n",
    "list_4 = [6,7,8,9,0]\n",
    "merge_2 = list_3.extend(list_4)\n",
    "\n",
    "print('merge 1:\\t\\t',list_1 + list_2)\n",
    "print('merge 2:\\t\\t',merge_2) # ---------!!!!\n",
    "print('List 3 extends:\\t\\t',list_3)"
   ]
  },
  {
   "cell_type": "markdown",
   "id": "b8b96c54",
   "metadata": {},
   "source": [
    "### Add to list"
   ]
  },
  {
   "cell_type": "markdown",
   "id": "e5feef25",
   "metadata": {},
   "source": [
    "<b> List.append(newElement) <b> BIG O => O(1) </b>"
   ]
  },
  {
   "cell_type": "code",
   "execution_count": 22,
   "id": "f599cf2f",
   "metadata": {},
   "outputs": [
    {
     "name": "stdout",
     "output_type": "stream",
     "text": [
      "[2, 3, 5, 7, 11, 13, 17]\n"
     ]
    }
   ],
   "source": [
    "prime_list = [2,3,5,7,11]\n",
    "prime_list.append(13)\n",
    "prime_list.append(17)\n",
    "print(prime_list)"
   ]
  },
  {
   "cell_type": "markdown",
   "id": "babad0f0",
   "metadata": {},
   "source": [
    "<b> List.insert(index, newElement) <b> BIG O => O(n) </b>"
   ]
  },
  {
   "cell_type": "code",
   "execution_count": 23,
   "id": "be919470",
   "metadata": {},
   "outputs": [
    {
     "name": "stdout",
     "output_type": "stream",
     "text": [
      "[2, 3, 5, 4, 7, 11]\n"
     ]
    }
   ],
   "source": [
    "prime_list = [2,3,5,7,11]\n",
    "prime_list.insert(3, 4)\n",
    "print(prime_list)"
   ]
  },
  {
   "cell_type": "markdown",
   "id": "b272855b",
   "metadata": {},
   "source": [
    "### Remove from List"
   ]
  },
  {
   "cell_type": "markdown",
   "id": "a8db5532",
   "metadata": {},
   "source": [
    "* <b> List.pop() </b> Remove last element from list <b> BIG O => O(1) </b> <br> \n",
    "* <b> List.pop(index) </b> Remove indexed element from list <b> BIG O => O(n) </b> <br>"
   ]
  },
  {
   "cell_type": "code",
   "execution_count": 24,
   "id": "58097421",
   "metadata": {},
   "outputs": [
    {
     "name": "stdout",
     "output_type": "stream",
     "text": [
      "Slytherin\n",
      "['Gryffindor', 'Hufflepuff', 'Ravenclaw']\n"
     ]
    }
   ],
   "source": [
    "houses = [\"Gryffindor\", \"Hufflepuff\", \"Ravenclaw\", \"Slytherin\"]\n",
    "last_house = houses.pop()\n",
    "print(last_house)\n",
    "print(houses)"
   ]
  },
  {
   "cell_type": "markdown",
   "id": "d0119b83",
   "metadata": {},
   "source": [
    "* <b> max(list) <br>\n",
    "    BIG O => O(n)"
   ]
  },
  {
   "cell_type": "code",
   "execution_count": 25,
   "id": "5918500c",
   "metadata": {},
   "outputs": [
    {
     "name": "stdout",
     "output_type": "stream",
     "text": [
      "[2, 3, 5, 7, 11]\n",
      "11\n",
      "[2, 3, 5, 7]\n"
     ]
    }
   ],
   "source": [
    "prime_list = [2,3,5,7,11]\n",
    "print(prime_list)\n",
    "\n",
    "max_elm = max(prime_list)\n",
    "max_elm_index = prime_list.index(11)\n",
    "poped_item = prime_list.pop(max_elm_index)\n",
    "\n",
    "print(poped_item)\n",
    "print(prime_list)"
   ]
  },
  {
   "cell_type": "markdown",
   "id": "547be58a",
   "metadata": {},
   "source": [
    "<b> List.remove(element_to_be_deleted) <br>\n",
    "    BIG O => O(n)"
   ]
  },
  {
   "cell_type": "code",
   "execution_count": 1,
   "id": "76721bcd",
   "metadata": {},
   "outputs": [
    {
     "name": "stdout",
     "output_type": "stream",
     "text": [
      "['Gryffindor', 'Hufflepuff', 'Ravenclaw', 'Slytherin']\n",
      "['Hufflepuff', 'Ravenclaw', 'Slytherin']\n",
      "[['Winterfell', 10000], [\"King's Landing\", 50000], ['Iron Islands', 5000]]\n",
      "[['Winterfell', 10000], ['Iron Islands', 5000]]\n"
     ]
    }
   ],
   "source": [
    "houses = [\"Gryffindor\", \"Hufflepuff\", \"Ravenclaw\", \"Slytherin\"]\n",
    "print(houses)\n",
    "houses.remove(\"Gryffindor\")\n",
    "print(houses)\n",
    "\n",
    "# For nested lists\n",
    "populations = [[\"Winterfell\", 10000], [\"King's Landing\", 50000],\n",
    "               [\"Iron Islands\", 5000]]\n",
    "print(populations)\n",
    "populations.remove([\"King's Landing\", 50000])\n",
    "print(populations)"
   ]
  },
  {
   "cell_type": "markdown",
   "id": "f82be057",
   "metadata": {},
   "source": [
    "### Assignment vs Shalow Copy vs Deep Copy\n",
    "#### For lists within lists"
   ]
  },
  {
   "attachments": {
    "image.png": {
     "image/png": "[encoded data removed]"
    }
   },
   "cell_type": "markdown",
   "id": "916255e6",
   "metadata": {},
   "source": [
    "![image.png](attachment:image.png)"
   ]
  },
  {
   "cell_type": "markdown",
   "id": "5dea3bf8",
   "metadata": {},
   "source": [
    "#### Assignment or Aliasing\n",
    "The new list is refrences to the original list <br>\n",
    "Any/All changes in the old list will update the new list and <b> vise versa"
   ]
  },
  {
   "cell_type": "code",
   "execution_count": 15,
   "id": "ed0a1747",
   "metadata": {},
   "outputs": [
    {
     "name": "stdout",
     "output_type": "stream",
     "text": [
      "a: [[11, 12, 13], ['XA', 'XB', 'XC'], [200, 'XYC', 'some Address']]\n",
      "b: [[11, 12, 13], ['XA', 'XB', 'XC'], [200, 'XYC', 'some Address']]\n"
     ]
    }
   ],
   "source": [
    "a = [\n",
    "    [11,12,13],\n",
    "    ['XA','XB','XC'],\n",
    "    [200, 'XYC', 'some Address']\n",
    "]\n",
    "b = a\n",
    "print('a:',a)\n",
    "print('b:',b)"
   ]
  },
  {
   "cell_type": "code",
   "execution_count": 16,
   "id": "adbaf67f",
   "metadata": {},
   "outputs": [
    {
     "name": "stdout",
     "output_type": "stream",
     "text": [
      "a: [[11, 12, 13], ['XA', 'XB', 'XC'], [200, 'XYC', 'some Address'], ['crayy crayy']]\n",
      "b: [[11, 12, 13], ['XA', 'XB', 'XC'], [200, 'XYC', 'some Address'], ['crayy crayy']]\n"
     ]
    }
   ],
   "source": [
    "a.append(['crayy crayy'])\n",
    "print('a:',a)\n",
    "print('b:',b)"
   ]
  },
  {
   "cell_type": "code",
   "execution_count": 17,
   "id": "0870728f",
   "metadata": {},
   "outputs": [
    {
     "name": "stdout",
     "output_type": "stream",
     "text": [
      "a: [[11, 12, 13], ['XA', 'XB', 'XC'], [200, 'XYC', 'some Address'], ['crayy crayy'], ['lets see']]\n",
      "b: [[11, 12, 13], ['XA', 'XB', 'XC'], [200, 'XYC', 'some Address'], ['crayy crayy'], ['lets see']]\n"
     ]
    }
   ],
   "source": [
    "b.append(['lets see'])\n",
    "print('a:',a)\n",
    "print('b:',b)"
   ]
  },
  {
   "cell_type": "markdown",
   "id": "96941715",
   "metadata": {},
   "source": [
    "#### Shalow copy or Cloning\n",
    "The new list elements are refrences to orignal list exisiting elements <b> only </b> <br>"
   ]
  },
  {
   "cell_type": "code",
   "execution_count": 4,
   "id": "30b74404",
   "metadata": {},
   "outputs": [
    {
     "name": "stdout",
     "output_type": "stream",
     "text": [
      "x: [[1, 2, 3], ['A', 'B', 'C'], [200, 'XYC', 'some Address']]\n",
      "y: [[1, 2, 3], ['A', 'B', 'C'], [200, 'XYC', 'some Address']]\n"
     ]
    }
   ],
   "source": [
    "x = [\n",
    "    [1,2,3],\n",
    "    ['A','B','C'],\n",
    "    [200, 'XYC', 'some Address']\n",
    "]\n",
    "y = x.copy()  # same as => y = x[:] # list(x)\n",
    "print('x:',x)\n",
    "print('y:',y)"
   ]
  },
  {
   "cell_type": "markdown",
   "id": "f9bb359a",
   "metadata": {},
   "source": [
    "when a new element is appened in orginal list, it is <b> not </b>  refrenced in the new list"
   ]
  },
  {
   "cell_type": "code",
   "execution_count": 5,
   "id": "846762a6",
   "metadata": {},
   "outputs": [
    {
     "name": "stdout",
     "output_type": "stream",
     "text": [
      "x: [[1, 2, 3], ['A', 'B', 'C'], [200, 'XYC', 'some Address'], ['x append']]\n",
      "y: [[1, 2, 3], ['A', 'B', 'C'], [200, 'XYC', 'some Address']]\n"
     ]
    }
   ],
   "source": [
    "x.append(['x append'])\n",
    "print('x:',x)\n",
    "print('y:',y)"
   ]
  },
  {
   "cell_type": "markdown",
   "id": "d81133c6",
   "metadata": {},
   "source": [
    "<b> BUT </b> when an old element is updated in original list, it updates the new list"
   ]
  },
  {
   "cell_type": "code",
   "execution_count": 6,
   "id": "19418f37",
   "metadata": {},
   "outputs": [
    {
     "name": "stdout",
     "output_type": "stream",
     "text": [
      "x: [[1, 2, 3], ['ZZZ', 'B', 'C'], [200, 'XYC', 'some Address'], ['x append']]\n",
      "y: [[1, 2, 3], ['ZZZ', 'B', 'C'], [200, 'XYC', 'some Address']]\n"
     ]
    }
   ],
   "source": [
    "x[1][0] = 'ZZZ'\n",
    "print('x:',x)\n",
    "print('y:',y)"
   ]
  },
  {
   "cell_type": "code",
   "execution_count": 7,
   "id": "62bcac47",
   "metadata": {},
   "outputs": [
    {
     "name": "stdout",
     "output_type": "stream",
     "text": [
      "x: [[1, '987', 3], ['ZZZ', 'B', 'C'], [200, 'XYC', 'some Address'], ['x append']]\n",
      "y: [[1, '987', 3], ['ZZZ', 'B', 'C'], [200, 'XYC', 'some Address']]\n",
      "---\n",
      "x: [[1, '987', 3], ['ZZZ', 'B', 'C'], [200, 'XYC', 'some Address'], ['x append']]\n",
      "y: [[1, '987', 3], ['ZZZ', 'B', 'C'], [200, 'XYC', 'some Address'], ['yyyy append']]\n"
     ]
    }
   ],
   "source": [
    "y[0][1] = '987'\n",
    "print('x:',x)\n",
    "print('y:',y)\n",
    "print('---')\n",
    "y.append(['yyyy append'])\n",
    "print('x:',x)\n",
    "print('y:',y)"
   ]
  },
  {
   "cell_type": "markdown",
   "id": "513cf62d",
   "metadata": {},
   "source": [
    "#### Deep Copy\n",
    "nothing is refrences between two list"
   ]
  },
  {
   "cell_type": "code",
   "execution_count": 37,
   "id": "aa8412e1",
   "metadata": {},
   "outputs": [
    {
     "name": "stdout",
     "output_type": "stream",
     "text": [
      "[[1, 2, 3], ['A', 'B', 'C'], [200, 'XYC', 'some Address']]\n",
      "[[1, 2, 3], ['A', 'B', 'C'], [200, 'XYC', 'some Address']]\n"
     ]
    }
   ],
   "source": [
    "import copy\n",
    "var1 = [\n",
    "    [1,2,3],\n",
    "    ['A','B','C'],\n",
    "    [200, 'XYC', 'some Address']\n",
    "]\n",
    "var2 = copy.deepcopy(var1)\n",
    "print(var1)\n",
    "print(var2)"
   ]
  },
  {
   "cell_type": "code",
   "execution_count": 40,
   "id": "2b582fde",
   "metadata": {},
   "outputs": [
    {
     "name": "stdout",
     "output_type": "stream",
     "text": [
      "var1: [[1, 2, 3], ['987', 'B', 'C'], [200, 'XYC', 'some Address'], ['var1 append'], ['var1 append'], ['var1 append']]\n",
      "var2: [[1, 'ZZZ', 3], ['A', 'B', 'C'], [200, 'XYC', 'some Address'], ['var2222 append'], ['var2222 append']]\n",
      "---\n",
      "var1: [[1, 2, 3], ['987', 'B', 'C'], [200, 'XYC', 'some Address'], ['var1 append'], ['var1 append'], ['var1 append']]\n",
      "var2: [[1, 'ZZZ', 3], ['A', 'B', 'C'], [200, 'XYC', 'some Address'], ['var2222 append'], ['var2222 append'], ['var2222 append']]\n",
      "---\n",
      "var1: [[1, 2, 3], ['987', 'B', 'C'], [200, 'XYC', 'some Address'], ['var1 append'], ['var1 append'], ['var1 append']]\n",
      "var2: [[1, 'ZZZ', 3], ['A', 'B', 'C'], [200, 'XYC', 'some Address'], ['var2222 append'], ['var2222 append'], ['var2222 append']]\n",
      "---\n",
      "var1: [[1, 2, 3], ['987', 'B', 'C'], [200, 'XYC', 'some Address'], ['var1 append'], ['var1 append'], ['var1 append']]\n",
      "var2: [[1, 'ZZZ', 3], ['A', 'B', 'C'], [200, 'XYC', 'some Address'], ['var2222 append'], ['var2222 append'], ['var2222 append']]\n"
     ]
    }
   ],
   "source": [
    "var1.append(['var1 append'])\n",
    "print('var1:',var1)\n",
    "print('var2:',var2)\n",
    "print('---')\n",
    "var2.append(['var2222 append'])\n",
    "print('var1:',var1)\n",
    "print('var2:',var2)\n",
    "print('---')\n",
    "var1[1][0] = '987'\n",
    "print('var1:',var1)\n",
    "print('var2:',var2)\n",
    "print('---')\n",
    "var2[0][1] = 'ZZZ'\n",
    "print('var1:',var1)\n",
    "print('var2:',var2)\n"
   ]
  },
  {
   "cell_type": "markdown",
   "id": "cd6628eb",
   "metadata": {},
   "source": [
    "### Binary Search for sorted list\n",
    "Keep in mind that the O(log n) search is dominated by the slow O(n) insertion step."
   ]
  },
  {
   "cell_type": "code",
   "execution_count": 43,
   "id": "e188162c",
   "metadata": {},
   "outputs": [],
   "source": [
    "import bisect\n",
    "li1 = [1, 3, 4, 4, 4, 6, 7]\n",
    "li2 = [1, 3, 4, 4, 4, 6, 7]\n",
    "li3 = [1, 3, 4, 4, 4, 6, 7]"
   ]
  },
  {
   "cell_type": "code",
   "execution_count": 48,
   "id": "f2b5f96c",
   "metadata": {},
   "outputs": [
    {
     "name": "stdout",
     "output_type": "stream",
     "text": [
      "bisect (same as right):\t 5\n",
      "bisect left:\t\t 2\n",
      "bisect right:\t\t 5\n"
     ]
    }
   ],
   "source": [
    "# 2 arguments\n",
    "print('bisect (same as right):\\t',bisect.bisect(li1,4))\n",
    "print('bisect left:\\t\\t',bisect.bisect_left(li1,4))\n",
    "print('bisect right:\\t\\t', bisect.bisect_right(li1,4))"
   ]
  },
  {
   "cell_type": "code",
   "execution_count": 51,
   "id": "960a6f0c",
   "metadata": {},
   "outputs": [
    {
     "name": "stdout",
     "output_type": "stream",
     "text": [
      "bisect:\t\t 4\n",
      "bisect left:\t 2\n"
     ]
    }
   ],
   "source": [
    "#  4 arguments\n",
    "# low_index = 0 , high_index = 4\n",
    "print('bisect:\\t\\t',bisect.bisect(li1,4, 0, 4))\n",
    "print('bisect left:\\t',bisect.bisect_left(li1,4, 0 ,4))"
   ]
  },
  {
   "cell_type": "code",
   "execution_count": 52,
   "id": "92fdaf9d",
   "metadata": {},
   "outputs": [
    {
     "name": "stdout",
     "output_type": "stream",
     "text": [
      "li1: [1, 3, 4, 4, 4, 5, 6, 7]\n",
      "li2: [1, 3, 4, 4, 4, 5, 6, 7]\n",
      "li3: [1, 3, 4, 4, 5, 4, 6, 7]\n"
     ]
    }
   ],
   "source": [
    "bisect.insort(li1, 5)\n",
    "bisect.insort_left(li2, 5)\n",
    "bisect.insort_right(li3, 5, 0, 4)\n",
    "print('li1:',li1)\n",
    "print('li2:',li2)\n",
    "print('li3:',li3)"
   ]
  },
  {
   "cell_type": "markdown",
   "id": "9114561c",
   "metadata": {},
   "source": [
    "# Tuples (Immutable)\n",
    "* <b><u>Can’t</u> add or delete elements from tuples <br>\n",
    "* Faster than List    "
   ]
  },
  {
   "cell_type": "code",
   "execution_count": 27,
   "id": "ac0dd684",
   "metadata": {},
   "outputs": [
    {
     "name": "stdout",
     "output_type": "stream",
     "text": [
      "('ford', 'raptor', 2019, 'red')\n",
      "4\n",
      "raptor\n",
      "(2019, 'red')\n"
     ]
    }
   ],
   "source": [
    "car = (\"ford\", \"raptor\", 2019, \"red\")\n",
    "print(car)\n",
    "print(len(car))\n",
    "print(car[1])\n",
    "print(car[2:])"
   ]
  },
  {
   "cell_type": "code",
   "execution_count": 28,
   "id": "18118a5e",
   "metadata": {},
   "outputs": [
    {
     "name": "stdout",
     "output_type": "stream",
     "text": [
      "('Batman', 'Bruce Wayne', 'Wonder Woman', 'Diana Prince')\n"
     ]
    }
   ],
   "source": [
    "# Merging\n",
    "hero1 = (\"Batman\", \"Bruce Wayne\")\n",
    "hero2 = (\"Wonder Woman\", \"Diana Prince\")\n",
    "awesome_team = hero1 + hero2\n",
    "print(awesome_team)"
   ]
  },
  {
   "cell_type": "code",
   "execution_count": 29,
   "id": "def8dd30",
   "metadata": {},
   "outputs": [
    {
     "name": "stdout",
     "output_type": "stream",
     "text": [
      "(('Batman', 'Bruce Wayne'), ('Wonder Woman', 'Diana Prince'))\n"
     ]
    }
   ],
   "source": [
    "# Nested Tuples\n",
    "hero1 = (\"Batman\", \"Bruce Wayne\")\n",
    "hero2 = (\"Wonder Woman\", \"Diana Prince\")\n",
    "awesome_team = (hero1, hero2)\n",
    "print(awesome_team)"
   ]
  },
  {
   "cell_type": "code",
   "execution_count": 30,
   "id": "c3f2e191",
   "metadata": {},
   "outputs": [
    {
     "name": "stdout",
     "output_type": "stream",
     "text": [
      "False\n"
     ]
    }
   ],
   "source": [
    "cities = (\"London\", \"Paris\", \"Los Angeles\", \"Tokyo\")\n",
    "print(\"Moscow\" in cities)"
   ]
  },
  {
   "cell_type": "code",
   "execution_count": 31,
   "id": "f244fdf9",
   "metadata": {},
   "outputs": [
    {
     "name": "stdout",
     "output_type": "stream",
     "text": [
      "3\n"
     ]
    }
   ],
   "source": [
    "cities = (\"London\", \"Paris\", \"Los Angeles\", \"Tokyo\")\n",
    "print(cities.index(\"Tokyo\"))"
   ]
  },
  {
   "cell_type": "markdown",
   "id": "a4b28b25",
   "metadata": {},
   "source": [
    "# Sets (Immutable)"
   ]
  },
  {
   "cell_type": "markdown",
   "id": "1fbbfa84",
   "metadata": {},
   "source": [
    "A set is an <b> unordered collection </b>of data items."
   ]
  },
  {
   "cell_type": "markdown",
   "id": "1cbb9d70",
   "metadata": {},
   "source": [
    "<b> Create"
   ]
  },
  {
   "cell_type": "code",
   "execution_count": 32,
   "id": "72a3d494",
   "metadata": {},
   "outputs": [
    {
     "name": "stdout",
     "output_type": "stream",
     "text": [
      "<class 'set'>\n",
      "{'C', 'A', 'D', 'E', 'B', 'F'}\n",
      "{1408, (True, False), 3.142, 'Educative'}\n"
     ]
    }
   ],
   "source": [
    "set_1 = {'A','B','C','D','E','F'}\n",
    "set_2 = {\"Educative\", 1408, 3.142, (True, False)}\n",
    "print(type(set_1))\n",
    "print(set_1)\n",
    "print(set_2)"
   ]
  },
  {
   "cell_type": "code",
   "execution_count": 33,
   "id": "09a7ee82",
   "metadata": {},
   "outputs": [
    {
     "name": "stdout",
     "output_type": "stream",
     "text": [
      "{0, 1, 2, 3, 4, 5, 6, 7, 8, 9}\n",
      "{5, 6, 7, 8, 9}\n"
     ]
    }
   ],
   "source": [
    "set_3 = set(range(0,10))\n",
    "set_4 = set([9,8,7,6,5])\n",
    "print(set_3)\n",
    "print(set_4)"
   ]
  },
  {
   "cell_type": "markdown",
   "id": "6c6a8bf9",
   "metadata": {},
   "source": [
    "<b> Add </b>\n",
    "* <u>Single Element</u>: set.<b>add</b>(element)\n",
    "* <u>Multiple elements</u>: set.<b>update</b>([element1,element2,...,elementN])"
   ]
  },
  {
   "cell_type": "code",
   "execution_count": 34,
   "id": "2f919623",
   "metadata": {},
   "outputs": [
    {
     "name": "stdout",
     "output_type": "stream",
     "text": [
      "Add:\t\t\t {1}\n",
      "Update (add multiple):\t {1, 2, 3, 4, 5}\n"
     ]
    }
   ],
   "source": [
    "empty_set = set()\n",
    "empty_set.add(1)\n",
    "print('Add:\\t\\t\\t',empty_set)\n",
    "empty_set.update([2,3,4,5])\n",
    "print('Update (add multiple):\\t',empty_set)"
   ]
  },
  {
   "cell_type": "markdown",
   "id": "a07ec8fe",
   "metadata": {},
   "source": [
    "<b> Delete </b>\n",
    "* set.discard(element) -> gives <u>no error</u> if the element is not present\n",
    "* set.remove(element) -> gives error if the element is not present"
   ]
  },
  {
   "cell_type": "code",
   "execution_count": 35,
   "id": "4f2b6a85",
   "metadata": {},
   "outputs": [
    {
     "name": "stdout",
     "output_type": "stream",
     "text": [
      "{1408, (True, False), 3.142, 'Educative'}\n",
      "{1408, (True, False), 3.142}\n"
     ]
    }
   ],
   "source": [
    "random_set = set({\"Educative\", 1408, 3.142, (True, False)})\n",
    "print(random_set)\n",
    "\n",
    "random_set.discard('random')\n",
    "\n",
    "random_set.remove('Educative')\n",
    "print(random_set)"
   ]
  },
  {
   "cell_type": "markdown",
   "id": "d4ef413d",
   "metadata": {},
   "source": [
    "<b> Iterate"
   ]
  },
  {
   "cell_type": "code",
   "execution_count": 36,
   "id": "f88a2d1e",
   "metadata": {},
   "outputs": [
    {
     "name": "stdout",
     "output_type": "stream",
     "text": [
      "9\n",
      "16 exists in list\n"
     ]
    }
   ],
   "source": [
    "unordered_set = {9, 10, 11, 12, 13, 14, 15, 16, 17}\n",
    "\n",
    "for x in unordered_set:\n",
    "    if 9 == x:\n",
    "        print(x)\n",
    "        \n",
    "if 16 in unordered_set:\n",
    "    print('16 exists in list')"
   ]
  },
  {
   "cell_type": "markdown",
   "id": "45358f2a",
   "metadata": {},
   "source": [
    "<b> Operations </b>\n",
    "* Union:&emsp;&emsp;&emsp; '|' or 'set_1.union.(set_2)'\n",
    "* Intersection:&ensp; '&' or 'set_1.intersection.(set_2)'\n",
    "* Difference:&emsp; '-' or 'set_1.difference.(set_2)'"
   ]
  },
  {
   "cell_type": "code",
   "execution_count": 37,
   "id": "e7868657",
   "metadata": {},
   "outputs": [
    {
     "name": "stdout",
     "output_type": "stream",
     "text": [
      "odd | even:\t {1, 2, 3, 4, 5, 6, 7, 8, 9, 10}\n",
      "odd & primes:\t {1, 3, 5, 7}\n",
      "even - primes:\t {8, 10, 4, 6}\n"
     ]
    }
   ],
   "source": [
    "odd = set([1,3,5,7,9])\n",
    "even = set([2,4,6,8,10])\n",
    "primes = set([1,2,3,5,7])\n",
    "\n",
    "print('odd | even:\\t',odd | even)\n",
    "print('odd & primes:\\t',odd & primes)\n",
    "print('even - primes:\\t',even - primes)"
   ]
  },
  {
   "cell_type": "markdown",
   "id": "30bfa3de",
   "metadata": {},
   "source": [
    "# Dictionaries (Mutable)\n",
    "<b> Create"
   ]
  },
  {
   "cell_type": "code",
   "execution_count": 38,
   "id": "2b17c7c7",
   "metadata": {},
   "outputs": [
    {
     "name": "stdout",
     "output_type": "stream",
     "text": [
      "{}\n",
      "{'user_id': 209, 'message': 'D5 E5 C5 C4 G4', 'language': 'English', 'location': (44.55, -14.95)}\n",
      "{'user_id': 320, 'message': 'SS G9 D7 G5 U8', 'language': 'Spanish', 'location': (54.21, 23.32)}\n",
      "{'user_id': 200, 'message': 'D5 E5 C1 C1 G1', 'language': 'English', 'location': (4.52, 54.95)}\n"
     ]
    }
   ],
   "source": [
    "post = dict()\n",
    "# Exmaple 1\n",
    "post1 = {\n",
    "    \"user_id\": 209,\n",
    "    \"message\": \"D5 E5 C5 C4 G4\",\n",
    "    \"language\": \"English\",\n",
    "    \"location\": (44.55, -14.95)\n",
    "}\n",
    "\n",
    "# Example 2\n",
    "post2 = dict(user_id=320, message=\"SS G9 D7 G5 U8\", language=\"Spanish\", location=(54.21,23.32))\n",
    "\n",
    "# Example 3\n",
    "post3 = dict([  (\"user_id\", 200),\n",
    "                (\"message\", \"D5 E5 C1 C1 G1\"),\n",
    "                (\"language\", \"English\"),\n",
    "                (\"location\", (04.52, 54.95))])\n",
    "\n",
    "print(post)\n",
    "print(post1)\n",
    "print(post2)\n",
    "print(post3)"
   ]
  },
  {
   "cell_type": "markdown",
   "id": "397b797f",
   "metadata": {},
   "source": [
    "<b> Accessing Values </b> <br>\n",
    " * dictionary.get(key)\n",
    " * dictionary[key]"
   ]
  },
  {
   "cell_type": "code",
   "execution_count": 39,
   "id": "6aab9f44",
   "metadata": {},
   "outputs": [
    {
     "name": "stdout",
     "output_type": "stream",
     "text": [
      "dictionary.get(key):\t 237734\n",
      "dictionary[key]:\t 44678\n"
     ]
    }
   ],
   "source": [
    "phone_book = {\"Batman\": 468426,\n",
    "              \"Cersei\": 237734,\n",
    "              \"Ghostbusters\": 44678}\n",
    "print('dictionary.get(key):\\t',phone_book[\"Cersei\"])\n",
    "print('dictionary[key]:\\t',phone_book.get(\"Ghostbusters\"))"
   ]
  },
  {
   "cell_type": "markdown",
   "id": "68a40c54",
   "metadata": {},
   "source": [
    "<b> Delete Values </b>\n",
    "* del dictionary[key]\n",
    "* dictionary.pop(key) -> Removes key-value pair and return 'value'\n",
    "* dictionary.popitem() -> Removes and returns the last inserted pair, as a 'tuple'"
   ]
  },
  {
   "cell_type": "code",
   "execution_count": 40,
   "id": "6c7adbf1",
   "metadata": {},
   "outputs": [
    {
     "name": "stdout",
     "output_type": "stream",
     "text": [
      "phone_book orginal:\t {'Batman': 468426, 'Cersei': 237734, 'Ghostbusters': 44678}\n",
      "phone_book modifed:\t {}\n",
      "Cersei:\t\t\t 237734\n",
      "Ghostbusters:\t\t Ghostbusters 44678\n"
     ]
    }
   ],
   "source": [
    "phone_book = {\"Batman\": 468426,\n",
    "              \"Cersei\": 237734,\n",
    "              \"Ghostbusters\": 44678}\n",
    "print('phone_book orginal:\\t',phone_book)\n",
    "\n",
    "# ghostbusters = phone_book.popitem()\n",
    "key1, value2 = phone_book.popitem()\n",
    "cersei = phone_book.pop(\"Cersei\")\n",
    "del phone_book[\"Batman\"]\n",
    "\n",
    "print('phone_book modifed:\\t',phone_book)\n",
    "print('Cersei:\\t\\t\\t',cersei)\n",
    "print('Ghostbusters:\\t\\t',key1, value2)"
   ]
  },
  {
   "cell_type": "markdown",
   "id": "f9518c88",
   "metadata": {},
   "source": [
    "<b> Checking Key Existence "
   ]
  },
  {
   "cell_type": "code",
   "execution_count": 82,
   "id": "9593b69a",
   "metadata": {},
   "outputs": [
    {
     "name": "stdout",
     "output_type": "stream",
     "text": [
      "True\n",
      "False\n"
     ]
    }
   ],
   "source": [
    "phone_book = {\"Batman\": 468426,\n",
    "              \"Cersei\": 237734,\n",
    "              \"Ghostbusters\": 44678}\n",
    "print(\"Batman\" in phone_book)\n",
    "print(\"Godzilla\" in phone_book)\n"
   ]
  },
  {
   "cell_type": "markdown",
   "id": "cfa3eaf5",
   "metadata": {},
   "source": [
    "<b> Copying Contents"
   ]
  },
  {
   "cell_type": "code",
   "execution_count": 42,
   "id": "c4c90986",
   "metadata": {},
   "outputs": [
    {
     "name": "stdout",
     "output_type": "stream",
     "text": [
      "{'Batman': 468426, 'Cersei': 237734, 'Ghostbusters': 44678, 'Catwoman': 67423, 'Jaime': 237734, 'Godzilla': 37623}\n"
     ]
    }
   ],
   "source": [
    "phone_book = {\"Batman\": 468426,\n",
    "              \"Cersei\": 237734,\n",
    "              \"Ghostbusters\": 44678}\n",
    "\n",
    "second_phone_book = {\"Catwoman\": 67423, \"Jaime\": 237734, \"Godzilla\": 37623}\n",
    "\n",
    "# Add secondphone_book to phone_book\n",
    "phone_book.update(second_phone_book)\n",
    "print(phone_book)"
   ]
  },
  {
   "cell_type": "markdown",
   "id": "26ea869d",
   "metadata": {},
   "source": [
    "<b> Dictionary Comprehension"
   ]
  },
  {
   "cell_type": "code",
   "execution_count": 43,
   "id": "94c725d8",
   "metadata": {},
   "outputs": [
    {
     "name": "stdout",
     "output_type": "stream",
     "text": [
      "{1: 'Gryffindor', 2: 'Slytherin', 3: 'Hufflepuff', 4: 'Ravenclaw'}\n",
      "{4: 'Slytherin!', 9: 'Hufflepuff!', 16: 'Ravenclaw!'}\n"
     ]
    }
   ],
   "source": [
    "houses = {1: \"Gryffindor\", 2: \"Slytherin\", 3: \"Hufflepuff\", 4: \"Ravenclaw\"}\n",
    "new_houses = {n**2: house + \"!\" for (n, house) in houses.items() if n > 1}\n",
    "print(houses)\n",
    "print(new_houses)"
   ]
  },
  {
   "cell_type": "markdown",
   "id": "25610e1e",
   "metadata": {},
   "source": [
    "<b> For Loop "
   ]
  },
  {
   "cell_type": "code",
   "execution_count": 44,
   "id": "a7e4c41a",
   "metadata": {},
   "outputs": [
    {
     "name": "stdout",
     "output_type": "stream",
     "text": [
      "dictionary.items():\n",
      "1 : Gryffindor\n",
      "2 : Slytherin\n",
      "3 : Hufflepuff\n",
      "4 : Ravenclaw\n",
      "---\n",
      "(1, 'Gryffindor')\n",
      "(2, 'Slytherin')\n",
      "(3, 'Hufflepuff')\n",
      "(4, 'Ravenclaw')\n",
      "\n",
      "dictionary.keys():\n",
      "1 : Gryffindor\n",
      "2 : Slytherin\n",
      "3 : Hufflepuff\n",
      "4 : Ravenclaw\n",
      "\n",
      "in dictionary:\n",
      "1 : Gryffindor\n",
      "2 : Slytherin\n",
      "3 : Hufflepuff\n",
      "4 : Ravenclaw\n"
     ]
    }
   ],
   "source": [
    "houses = {1: \"Gryffindor\", 2: \"Slytherin\", 3: \"Hufflepuff\", 4: \"Ravenclaw\"}\n",
    "\n",
    "print('dictionary.items():')\n",
    "for key, val in houses.items():\n",
    "    print(key,':',val)\n",
    "\n",
    "print('---')\n",
    "for tup in houses.items():\n",
    "    print(tup)\n",
    "\n",
    "print('\\ndictionary.keys():')\n",
    "for key in houses.keys():\n",
    "    print(key, \":\", houses[key])\n",
    "\n",
    "print('\\nin dictionary:')\n",
    "for key in houses:\n",
    "    print(key, \":\", houses[key])"
   ]
  },
  {
   "cell_type": "code",
   "execution_count": null,
   "id": "d24b08da",
   "metadata": {},
   "outputs": [],
   "source": []
  }
 ],
 "metadata": {
  "kernelspec": {
   "display_name": "Python 3 (ipykernel)",
   "language": "python",
   "name": "python3"
  },
  "language_info": {
   "codemirror_mode": {
    "name": "ipython",
    "version": 3
   },
   "file_extension": ".py",
   "mimetype": "text/x-python",
   "name": "python",
   "nbconvert_exporter": "python",
   "pygments_lexer": "ipython3",
   "version": "3.9.13"
  }
 },
 "nbformat": 4,
 "nbformat_minor": 5
}
